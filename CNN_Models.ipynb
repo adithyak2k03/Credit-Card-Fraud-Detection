{
 "cells": [
  {
   "cell_type": "code",
   "execution_count": 2,
   "id": "2a78ce6d-258b-450b-86db-68c61e5a8594",
   "metadata": {},
   "outputs": [],
   "source": [
    "import numpy as np\n",
    "import matplotlib.pyplot as plt\n",
    "import pandas as pd"
   ]
  },
  {
   "cell_type": "code",
   "execution_count": 3,
   "id": "46b45a59-cdfb-44bb-9fb6-64fc99a38191",
   "metadata": {},
   "outputs": [],
   "source": [
    "dataset=pd.read_csv('creditcard_down.csv')\n"
   ]
  },
  {
   "cell_type": "code",
   "execution_count": 4,
   "id": "5bc26b0b-2888-45ca-8c22-ca14b9639faa",
   "metadata": {},
   "outputs": [
    {
     "data": {
      "text/plain": [
       "(1084, 30)"
      ]
     },
     "execution_count": 4,
     "metadata": {},
     "output_type": "execute_result"
    }
   ],
   "source": [
    "dataset.shape"
   ]
  },
  {
   "cell_type": "code",
   "execution_count": 5,
   "id": "68ab15e3-1aee-4d23-89a8-ac8a0ddfcfc0",
   "metadata": {},
   "outputs": [],
   "source": [
    "X = dataset.iloc[:, :-1].values\n",
    "y = dataset.iloc[:, -1].values"
   ]
  },
  {
   "cell_type": "code",
   "execution_count": 6,
   "id": "6509c719-b2f4-451f-8520-759214f5ff01",
   "metadata": {},
   "outputs": [],
   "source": [
    "from sklearn.model_selection import train_test_split\n",
    "X_train, X_test, y_train, y_test = train_test_split(X, y, test_size = 0.25, random_state = 0)"
   ]
  },
  {
   "cell_type": "code",
   "execution_count": 7,
   "id": "9a77f647-2f7c-4931-a54f-7e0ddba140c0",
   "metadata": {},
   "outputs": [],
   "source": [
    "from sklearn.preprocessing import StandardScaler\n",
    "sc = StandardScaler()\n",
    "X_train = sc.fit_transform(X_train)\n",
    "X_test = sc.transform(X_test)"
   ]
  },
  {
   "cell_type": "code",
   "execution_count": 8,
   "id": "e592c448-1079-4056-b4f6-36837b79fe4c",
   "metadata": {},
   "outputs": [
    {
     "name": "stdout",
     "output_type": "stream",
     "text": [
      "(813, 29, 1)\n",
      "(813,)\n",
      "(813, 29, 1)\n",
      "(813,)\n"
     ]
    }
   ],
   "source": [
    "X_train = X_train.reshape(X_train.shape[0],X_train.shape[1],1)\n",
    "X_test = X_test.reshape(X_test.shape[0],X_test.shape[1],1)\n",
    "\n",
    "# convert shape of y_train and y_test from (n,1) to (n,)\n",
    "\n",
    "# y_train = y_train.reshape(y_train.shape[0],1)\n",
    "# y_test = y_test.reshape(y_test.shape[0],1)\n",
    "\n",
    "y_train = y_train.reshape(y_train.shape[0],)\n",
    "y_test = y_test.reshape(y_test.shape[0],)\n",
    "\n",
    "print(X_train.shape);\n",
    "print(y_train.shape);\n",
    "\n",
    "print(X_train.shape);\n",
    "print(y_train.shape); \n",
    "\n",
    "\n"
   ]
  },
  {
   "cell_type": "code",
   "execution_count": 9,
   "id": "ba8738d7-5548-45c3-8d31-20f0ae35836d",
   "metadata": {},
   "outputs": [],
   "source": [
    "import tensorflow as tf \n",
    "from tensorflow.keras.layers import Dense, Dropout, Conv2D, MaxPool2D, Flatten, Conv1D\n",
    "from tensorflow.keras.models import Sequential\n",
    "# import batch normalization\n",
    "from tensorflow.keras.layers import BatchNormalization"
   ]
  },
  {
   "cell_type": "code",
   "execution_count": null,
   "id": "15d9ccad-1c46-4318-be79-5910b239a89a",
   "metadata": {},
   "outputs": [],
   "source": []
  },
  {
   "cell_type": "markdown",
   "id": "221d4b87-8b78-4fe7-9b43-855fe50808c2",
   "metadata": {},
   "source": [
    "# 14 Layers"
   ]
  },
  {
   "cell_type": "code",
   "execution_count": 10,
   "id": "285e5a52-9e7c-4239-a958-bef3a4e9211e",
   "metadata": {},
   "outputs": [
    {
     "name": "stdout",
     "output_type": "stream",
     "text": [
      "Model: \"sequential\"\n",
      "_________________________________________________________________\n",
      " Layer (type)                Output Shape              Param #   \n",
      "=================================================================\n",
      " conv1d (Conv1D)             (None, 28, 32)            96        \n",
      "                                                                 \n",
      " batch_normalization (BatchN  (None, 28, 32)           128       \n",
      " ormalization)                                                   \n",
      "                                                                 \n",
      " dropout (Dropout)           (None, 28, 32)            0         \n",
      "                                                                 \n",
      " conv1d_1 (Conv1D)           (None, 27, 64)            4160      \n",
      "                                                                 \n",
      " batch_normalization_1 (Batc  (None, 27, 64)           256       \n",
      " hNormalization)                                                 \n",
      "                                                                 \n",
      " dropout_1 (Dropout)         (None, 27, 64)            0         \n",
      "                                                                 \n",
      " conv1d_2 (Conv1D)           (None, 26, 64)            8256      \n",
      "                                                                 \n",
      " flatten (Flatten)           (None, 1664)              0         \n",
      "                                                                 \n",
      " dense (Dense)               (None, 64)                106560    \n",
      "                                                                 \n",
      " dropout_2 (Dropout)         (None, 64)                0         \n",
      "                                                                 \n",
      " dense_1 (Dense)             (None, 100)               6500      \n",
      "                                                                 \n",
      " dense_2 (Dense)             (None, 50)                5050      \n",
      "                                                                 \n",
      " dense_3 (Dense)             (None, 25)                1275      \n",
      "                                                                 \n",
      " dense_4 (Dense)             (None, 1)                 26        \n",
      "                                                                 \n",
      "=================================================================\n",
      "Total params: 132,307\n",
      "Trainable params: 132,115\n",
      "Non-trainable params: 192\n",
      "_________________________________________________________________\n"
     ]
    }
   ],
   "source": [
    "\n",
    "cnn_14 = Sequential()\n",
    "\n",
    "cnn_14.add(Conv1D(32, 2, activation = \"relu\", input_shape = (29,1)))\n",
    "cnn_14.add(BatchNormalization())\n",
    "cnn_14.add(Dropout(0.2))\n",
    "cnn_14.add(Conv1D(64, 2, activation = \"relu\"))\n",
    "cnn_14.add(BatchNormalization())\n",
    "cnn_14.add(Dropout(0.5))\n",
    "cnn_14.add(Conv1D(64, 2, activation = \"relu\"))\n",
    "cnn_14.add(Flatten())\n",
    "cnn_14.add(Dense(64, activation = \"relu\"))\n",
    "cnn_14.add(Dropout(0.5))\n",
    "cnn_14.add(Dense(100, activation = \"relu\"))\n",
    "cnn_14.add(Dense(50, activation = \"relu\"))\n",
    "cnn_14.add(Dense(25, activation = \"relu\"))\n",
    "cnn_14.add(Dense(1, activation = \"sigmoid\"))\n",
    "\n",
    "#compile Model\n",
    "\n",
    "cnn_14.compile(loss='binary_crossentropy', optimizer='adam', metrics=['accuracy'])\n",
    "\n",
    "cnn_14.summary()\n",
    "\n",
    "    "
   ]
  },
  {
   "cell_type": "code",
   "execution_count": 11,
   "id": "24a8a26a-54ad-4851-89c1-9e790ae90619",
   "metadata": {},
   "outputs": [
    {
     "name": "stdout",
     "output_type": "stream",
     "text": [
      "Epoch 1/10\n",
      "26/26 [==============================] - 3s 22ms/step - loss: 0.5279 - accuracy: 0.6937 - val_loss: 0.5396 - val_accuracy: 0.8893\n",
      "Epoch 2/10\n",
      "26/26 [==============================] - 0s 9ms/step - loss: 0.2641 - accuracy: 0.9065 - val_loss: 0.4577 - val_accuracy: 0.9188\n",
      "Epoch 3/10\n",
      "26/26 [==============================] - 0s 10ms/step - loss: 0.2101 - accuracy: 0.9299 - val_loss: 0.3748 - val_accuracy: 0.9373\n",
      "Epoch 4/10\n",
      "26/26 [==============================] - 0s 9ms/step - loss: 0.1910 - accuracy: 0.9373 - val_loss: 0.3280 - val_accuracy: 0.9336\n",
      "Epoch 5/10\n",
      "26/26 [==============================] - 0s 9ms/step - loss: 0.1787 - accuracy: 0.9336 - val_loss: 0.2684 - val_accuracy: 0.9373\n",
      "Epoch 6/10\n",
      "26/26 [==============================] - 0s 10ms/step - loss: 0.1775 - accuracy: 0.9434 - val_loss: 0.2625 - val_accuracy: 0.9410\n",
      "Epoch 7/10\n",
      "26/26 [==============================] - 0s 10ms/step - loss: 0.1786 - accuracy: 0.9373 - val_loss: 0.2240 - val_accuracy: 0.9373\n",
      "Epoch 8/10\n",
      "26/26 [==============================] - 0s 10ms/step - loss: 0.1554 - accuracy: 0.9459 - val_loss: 0.2109 - val_accuracy: 0.9336\n",
      "Epoch 9/10\n",
      "26/26 [==============================] - 0s 12ms/step - loss: 0.1623 - accuracy: 0.9360 - val_loss: 0.1922 - val_accuracy: 0.9410\n",
      "Epoch 10/10\n",
      "26/26 [==============================] - 0s 10ms/step - loss: 0.1544 - accuracy: 0.9385 - val_loss: 0.1924 - val_accuracy: 0.9410\n"
     ]
    },
    {
     "data": {
      "text/plain": [
       "<keras.callbacks.History at 0x2a699500c10>"
      ]
     },
     "execution_count": 11,
     "metadata": {},
     "output_type": "execute_result"
    }
   ],
   "source": [
    "cnn_14.fit(X_train, y_train, epochs=10, validation_data=(X_test, y_test))"
   ]
  },
  {
   "cell_type": "code",
   "execution_count": 12,
   "id": "1f8f182a-d58d-45f3-b0c9-3126c22e7f84",
   "metadata": {},
   "outputs": [
    {
     "data": {
      "image/png": "[encoded data removed]",
      "text/plain": [
       "<Figure size 432x288 with 1 Axes>"
      ]
     },
     "metadata": {
      "needs_background": "light"
     },
     "output_type": "display_data"
    }
   ],
   "source": [
    "plt.plot(cnn_14.history.history['accuracy'], label='train acc'); \n",
    "plt.plot(cnn_14.history.history['val_accuracy'], label='val acc');  "
   ]
  },
  {
   "cell_type": "code",
   "execution_count": null,
   "id": "0aae18c8-754e-4326-a709-2eb3ccb12161",
   "metadata": {},
   "outputs": [],
   "source": []
  },
  {
   "cell_type": "code",
   "execution_count": 13,
   "id": "1a0d74ac-123d-4e48-8b68-3ccf06a1f45a",
   "metadata": {},
   "outputs": [
    {
     "data": {
      "image/png": "[encoded data removed]",
      "text/plain": [
       "<Figure size 432x288 with 1 Axes>"
      ]
     },
     "metadata": {
      "needs_background": "light"
     },
     "output_type": "display_data"
    }
   ],
   "source": [
    "# print accuracy under graph;\n",
    "plt.plot(cnn_14.history.history['loss'], label='train loss'); \n",
    "plt.plot(cnn_14.history.history['val_loss'], label='val loss');  "
   ]
  },
  {
   "cell_type": "code",
   "execution_count": 14,
   "id": "8e6b4f8e-1f5c-4a17-8207-bfa8371eb0b3",
   "metadata": {},
   "outputs": [],
   "source": [
    "cnn_14.save(\"imbalanced/CNN_14_layers.h5\")"
   ]
  },
  {
   "cell_type": "markdown",
   "id": "cf97efb9-5089-48d6-8685-6aa899092555",
   "metadata": {},
   "source": [
    "# 17 Layers"
   ]
  },
  {
   "cell_type": "code",
   "execution_count": 15,
   "id": "4f6e8bff-baec-45a3-8a3e-bc01ad5f3f7d",
   "metadata": {},
   "outputs": [
    {
     "name": "stdout",
     "output_type": "stream",
     "text": [
      "Model: \"sequential_1\"\n",
      "_________________________________________________________________\n",
      " Layer (type)                Output Shape              Param #   \n",
      "=================================================================\n",
      " conv1d_3 (Conv1D)           (None, 28, 32)            96        \n",
      "                                                                 \n",
      " batch_normalization_2 (Batc  (None, 28, 32)           128       \n",
      " hNormalization)                                                 \n",
      "                                                                 \n",
      " dropout_3 (Dropout)         (None, 28, 32)            0         \n",
      "                                                                 \n",
      " conv1d_4 (Conv1D)           (None, 27, 64)            4160      \n",
      "                                                                 \n",
      " batch_normalization_3 (Batc  (None, 27, 64)           256       \n",
      " hNormalization)                                                 \n",
      "                                                                 \n",
      " dropout_4 (Dropout)         (None, 27, 64)            0         \n",
      "                                                                 \n",
      " conv1d_5 (Conv1D)           (None, 26, 64)            8256      \n",
      "                                                                 \n",
      " batch_normalization_4 (Batc  (None, 26, 64)           256       \n",
      " hNormalization)                                                 \n",
      "                                                                 \n",
      " dropout_5 (Dropout)         (None, 26, 64)            0         \n",
      "                                                                 \n",
      " flatten_1 (Flatten)         (None, 1664)              0         \n",
      "                                                                 \n",
      " dense_5 (Dense)             (None, 64)                106560    \n",
      "                                                                 \n",
      " dropout_6 (Dropout)         (None, 64)                0         \n",
      "                                                                 \n",
      " dense_6 (Dense)             (None, 100)               6500      \n",
      "                                                                 \n",
      " dense_7 (Dense)             (None, 50)                5050      \n",
      "                                                                 \n",
      " dense_8 (Dense)             (None, 25)                1275      \n",
      "                                                                 \n",
      " dense_9 (Dense)             (None, 1)                 26        \n",
      "                                                                 \n",
      "=================================================================\n",
      "Total params: 132,563\n",
      "Trainable params: 132,243\n",
      "Non-trainable params: 320\n",
      "_________________________________________________________________\n"
     ]
    }
   ],
   "source": [
    "cnn_17 = Sequential()\n",
    "# \n",
    "cnn_17.add(Conv1D(32, 2, activation = \"relu\", input_shape = (29,1)))\n",
    "cnn_17.add(BatchNormalization())\n",
    "cnn_17.add(Dropout(0.2))\n",
    "\n",
    "cnn_17.add(Conv1D(64, 2, activation = \"relu\"))\n",
    "cnn_17.add(BatchNormalization())\n",
    "cnn_17.add(Dropout(0.5))\n",
    "\n",
    "cnn_17.add(Conv1D(64, 2, activation = \"relu\"))\n",
    "cnn_17.add(BatchNormalization())\n",
    "cnn_17.add(Dropout(0.25))\n",
    "\n",
    "cnn_17.add(Flatten())\n",
    "\n",
    "cnn_17.add(Dense(64, activation = \"relu\"))\n",
    "\n",
    "cnn_17.add(Dropout(0.5))\n",
    "\n",
    "cnn_17.add(Dense(100, activation = \"relu\"))\n",
    "\n",
    "cnn_17.add(Dense(50, activation = \"relu\"))\n",
    "\n",
    "cnn_17.add(Dense(25, activation = \"relu\"))\n",
    "\n",
    "cnn_17.add(Dense(1, activation = \"sigmoid\"))\n",
    "\n",
    "cnn_17.compile(loss='binary_crossentropy', optimizer='adam', metrics=['accuracy'])\n",
    "\n",
    "cnn_17.summary()"
   ]
  },
  {
   "cell_type": "code",
   "execution_count": 16,
   "id": "d2f85624-e1c3-4432-8d60-e1725600a569",
   "metadata": {},
   "outputs": [
    {
     "name": "stdout",
     "output_type": "stream",
     "text": [
      "Epoch 1/10\n",
      "26/26 [==============================] - 4s 22ms/step - loss: 0.4422 - accuracy: 0.8180 - val_loss: 0.5399 - val_accuracy: 0.8450\n",
      "Epoch 2/10\n",
      "26/26 [==============================] - 0s 12ms/step - loss: 0.2326 - accuracy: 0.9102 - val_loss: 0.3827 - val_accuracy: 0.9336\n",
      "Epoch 3/10\n",
      "26/26 [==============================] - 0s 12ms/step - loss: 0.1930 - accuracy: 0.9311 - val_loss: 0.4728 - val_accuracy: 0.6753\n",
      "Epoch 4/10\n",
      "26/26 [==============================] - 0s 10ms/step - loss: 0.1835 - accuracy: 0.9250 - val_loss: 0.8263 - val_accuracy: 0.4465\n",
      "Epoch 5/10\n",
      "26/26 [==============================] - 0s 15ms/step - loss: 0.1820 - accuracy: 0.9373 - val_loss: 0.5288 - val_accuracy: 0.5424\n",
      "Epoch 6/10\n",
      "26/26 [==============================] - 0s 12ms/step - loss: 0.1753 - accuracy: 0.9323 - val_loss: 0.2315 - val_accuracy: 0.9520\n",
      "Epoch 7/10\n",
      "26/26 [==============================] - 0s 14ms/step - loss: 0.1652 - accuracy: 0.9373 - val_loss: 0.2562 - val_accuracy: 0.9299\n",
      "Epoch 8/10\n",
      "26/26 [==============================] - 0s 11ms/step - loss: 0.1605 - accuracy: 0.9459 - val_loss: 0.3158 - val_accuracy: 0.8782\n",
      "Epoch 9/10\n",
      "26/26 [==============================] - 0s 14ms/step - loss: 0.1532 - accuracy: 0.9483 - val_loss: 0.3348 - val_accuracy: 0.8598\n",
      "Epoch 10/10\n",
      "26/26 [==============================] - 0s 14ms/step - loss: 0.1571 - accuracy: 0.9434 - val_loss: 0.1713 - val_accuracy: 0.9520\n"
     ]
    },
    {
     "data": {
      "text/plain": [
       "<keras.callbacks.History at 0x2a69ec96400>"
      ]
     },
     "execution_count": 16,
     "metadata": {},
     "output_type": "execute_result"
    }
   ],
   "source": [
    "cnn_17.fit(X_train, y_train, epochs=10, validation_data=(X_test, y_test))"
   ]
  },
  {
   "cell_type": "code",
   "execution_count": 17,
   "id": "572d896e-17b4-48b4-9c64-802310586708",
   "metadata": {},
   "outputs": [
    {
     "data": {
      "text/plain": [
       "[<matplotlib.lines.Line2D at 0x2a6a20230a0>]"
      ]
     },
     "execution_count": 17,
     "metadata": {},
     "output_type": "execute_result"
    },
    {
     "data": {
      "image/png": "[encoded data removed]",
      "text/plain": [
       "<Figure size 432x288 with 1 Axes>"
      ]
     },
     "metadata": {
      "needs_background": "light"
     },
     "output_type": "display_data"
    }
   ],
   "source": [
    "plt.plot(cnn_17.history.history['accuracy'], label='train acc')\n",
    "plt.plot(cnn_17.history.history['val_accuracy'], label='val acc')\n"
   ]
  },
  {
   "cell_type": "code",
   "execution_count": 27,
   "id": "b42d2218-4862-482e-80fb-04ae764edb23",
   "metadata": {},
   "outputs": [
    {
     "data": {
      "image/png": "[encoded data removed]",
      "text/plain": [
       "<Figure size 432x288 with 1 Axes>"
      ]
     },
     "metadata": {
      "needs_background": "light"
     },
     "output_type": "display_data"
    }
   ],
   "source": [
    "# print accuracy under graph;\n",
    "plt.plot(cnn_17.history.history['loss'], label='train loss'); \n",
    "plt.plot(cnn_17.history.history['val_loss'], label='val loss');  "
   ]
  },
  {
   "cell_type": "code",
   "execution_count": 18,
   "id": "51aa3332-99a8-4de9-ba4e-139a48d8214c",
   "metadata": {},
   "outputs": [],
   "source": [
    "# # get the accuracy of the model from test data \n",
    "# plt.plot(cnn_17.history.history['accuracy'], label='train acc')\n",
    "# plt.legend()\n",
    "# plt.show()\n",
    "\n"
   ]
  },
  {
   "cell_type": "code",
   "execution_count": 19,
   "id": "ed44f41c-5c39-4633-be42-643c052d77e7",
   "metadata": {},
   "outputs": [],
   "source": [
    "# plt.plot(cnn_17.history.history['val_accuracy'], label='val acc')\n"
   ]
  },
  {
   "cell_type": "code",
   "execution_count": 20,
   "id": "9955c701-ad0c-427c-a2dc-cfc4567349af",
   "metadata": {},
   "outputs": [],
   "source": [
    "# cnn_17.save(\"imbalanced/CNN_17_layers.h5\")"
   ]
  },
  {
   "cell_type": "markdown",
   "id": "89114597-22c9-4ee4-a7fc-fcf11753592c",
   "metadata": {},
   "source": [
    "# 20 Layers"
   ]
  },
  {
   "cell_type": "code",
   "execution_count": 21,
   "id": "1896d514-e546-43e7-9abc-09d40cc0a7d7",
   "metadata": {},
   "outputs": [
    {
     "name": "stdout",
     "output_type": "stream",
     "text": [
      "Model: \"sequential_2\"\n",
      "_________________________________________________________________\n",
      " Layer (type)                Output Shape              Param #   \n",
      "=================================================================\n",
      " conv1d_6 (Conv1D)           (None, 28, 32)            96        \n",
      "                                                                 \n",
      " batch_normalization_5 (Batc  (None, 28, 32)           128       \n",
      " hNormalization)                                                 \n",
      "                                                                 \n",
      " dropout_7 (Dropout)         (None, 28, 32)            0         \n",
      "                                                                 \n",
      " conv1d_7 (Conv1D)           (None, 27, 64)            4160      \n",
      "                                                                 \n",
      " batch_normalization_6 (Batc  (None, 27, 64)           256       \n",
      " hNormalization)                                                 \n",
      "                                                                 \n",
      " dropout_8 (Dropout)         (None, 27, 64)            0         \n",
      "                                                                 \n",
      " conv1d_8 (Conv1D)           (None, 26, 64)            8256      \n",
      "                                                                 \n",
      " batch_normalization_7 (Batc  (None, 26, 64)           256       \n",
      " hNormalization)                                                 \n",
      "                                                                 \n",
      " dropout_9 (Dropout)         (None, 26, 64)            0         \n",
      "                                                                 \n",
      " conv1d_9 (Conv1D)           (None, 25, 64)            8256      \n",
      "                                                                 \n",
      " batch_normalization_8 (Batc  (None, 25, 64)           256       \n",
      " hNormalization)                                                 \n",
      "                                                                 \n",
      " dropout_10 (Dropout)        (None, 25, 64)            0         \n",
      "                                                                 \n",
      " flatten_2 (Flatten)         (None, 1600)              0         \n",
      "                                                                 \n",
      " dense_10 (Dense)            (None, 64)                102464    \n",
      "                                                                 \n",
      " dropout_11 (Dropout)        (None, 64)                0         \n",
      "                                                                 \n",
      " dense_11 (Dense)            (None, 100)               6500      \n",
      "                                                                 \n",
      " dense_12 (Dense)            (None, 50)                5050      \n",
      "                                                                 \n",
      " dense_13 (Dense)            (None, 25)                1275      \n",
      "                                                                 \n",
      " dense_14 (Dense)            (None, 1)                 26        \n",
      "                                                                 \n",
      "=================================================================\n",
      "Total params: 136,979\n",
      "Trainable params: 136,531\n",
      "Non-trainable params: 448\n",
      "_________________________________________________________________\n"
     ]
    }
   ],
   "source": [
    "cnn_20 = Sequential()\n",
    "\n",
    "cnn_20.add(Conv1D(32, 2, activation = \"relu\", input_shape = (29,1)))\n",
    "cnn_20.add(BatchNormalization())\n",
    "cnn_20.add(Dropout(0.2))\n",
    "\n",
    "cnn_20.add(Conv1D(64, 2, activation = \"relu\"))\n",
    "cnn_20.add(BatchNormalization())\n",
    "cnn_20.add(Dropout(0.5))\n",
    "\n",
    "cnn_20.add(Conv1D(64, 2, activation = \"relu\"))\n",
    "cnn_20.add(BatchNormalization())\n",
    "cnn_20.add(Dropout(0.5))\n",
    "\n",
    "cnn_20.add(Conv1D(64, 2, activation = \"relu\"))\n",
    "cnn_20.add(BatchNormalization())\n",
    "cnn_20.add(Dropout(0.25))\n",
    "\n",
    "cnn_20.add(Flatten())\n",
    "\n",
    "cnn_20.add(Dense(64, activation = \"relu\"))\n",
    "\n",
    "cnn_20.add(Dropout(0.5))\n",
    "\n",
    "cnn_20.add(Dense(100, activation = \"relu\"))\n",
    "\n",
    "cnn_20.add(Dense(50, activation = \"relu\"))\n",
    "\n",
    "cnn_20.add(Dense(25, activation = \"relu\"))\n",
    "\n",
    "cnn_20.add(Dense(1, activation = \"sigmoid\"))\n",
    "\n",
    "# compile model \n",
    "cnn_20.compile(loss='binary_crossentropy', optimizer='adam', metrics=['accuracy'])\n",
    "\n",
    "cnn_20.summary()\n"
   ]
  },
  {
   "cell_type": "code",
   "execution_count": 22,
   "id": "73fb3cc3-00c9-4649-bd11-6f2b92d572b7",
   "metadata": {},
   "outputs": [
    {
     "name": "stdout",
     "output_type": "stream",
     "text": [
      "Epoch 1/10\n",
      "26/26 [==============================] - 4s 30ms/step - loss: 0.5472 - accuracy: 0.7306 - val_loss: 0.6217 - val_accuracy: 0.6679\n",
      "Epoch 2/10\n",
      "26/26 [==============================] - 0s 15ms/step - loss: 0.2791 - accuracy: 0.8893 - val_loss: 0.5223 - val_accuracy: 0.7528\n",
      "Epoch 3/10\n",
      "26/26 [==============================] - 0s 18ms/step - loss: 0.2259 - accuracy: 0.9176 - val_loss: 0.4434 - val_accuracy: 0.8672\n",
      "Epoch 4/10\n",
      "26/26 [==============================] - 0s 15ms/step - loss: 0.2205 - accuracy: 0.9151 - val_loss: 0.4062 - val_accuracy: 0.9004\n",
      "Epoch 5/10\n",
      "26/26 [==============================] - 0s 16ms/step - loss: 0.1988 - accuracy: 0.9274 - val_loss: 0.3389 - val_accuracy: 0.8672\n",
      "Epoch 6/10\n",
      "26/26 [==============================] - 0s 16ms/step - loss: 0.2159 - accuracy: 0.9213 - val_loss: 0.3380 - val_accuracy: 0.9004\n",
      "Epoch 7/10\n",
      "26/26 [==============================] - 0s 16ms/step - loss: 0.1950 - accuracy: 0.9274 - val_loss: 0.2724 - val_accuracy: 0.9151\n",
      "Epoch 8/10\n",
      "26/26 [==============================] - 0s 15ms/step - loss: 0.1984 - accuracy: 0.9311 - val_loss: 0.2515 - val_accuracy: 0.9151\n",
      "Epoch 9/10\n",
      "26/26 [==============================] - 0s 17ms/step - loss: 0.1817 - accuracy: 0.9360 - val_loss: 0.2386 - val_accuracy: 0.9151\n",
      "Epoch 10/10\n",
      "26/26 [==============================] - 0s 17ms/step - loss: 0.1558 - accuracy: 0.9446 - val_loss: 0.2077 - val_accuracy: 0.9151\n"
     ]
    },
    {
     "data": {
      "text/plain": [
       "<keras.callbacks.History at 0x2a6a20c4f40>"
      ]
     },
     "execution_count": 22,
     "metadata": {},
     "output_type": "execute_result"
    }
   ],
   "source": [
    "cnn_20.fit(X_train, y_train, epochs=10, validation_data=(X_test, y_test))"
   ]
  },
  {
   "cell_type": "code",
   "execution_count": 23,
   "id": "41e7eab8-6764-4160-8e0f-ee76ec64bcf7",
   "metadata": {},
   "outputs": [
    {
     "data": {
      "text/plain": [
       "[<matplotlib.lines.Line2D at 0x2a6a65e03d0>]"
      ]
     },
     "execution_count": 23,
     "metadata": {},
     "output_type": "execute_result"
    },
    {
     "data": {
      "image/png": "[encoded data removed]",
      "text/plain": [
       "<Figure size 432x288 with 1 Axes>"
      ]
     },
     "metadata": {
      "needs_background": "light"
     },
     "output_type": "display_data"
    }
   ],
   "source": [
    "# history of accuracy\n",
    "plt.plot(cnn_20.history.history['accuracy'], label='train acc')\n",
    "plt.plot(cnn_20.history.history['val_accuracy'], label='val acc')"
   ]
  },
  {
   "cell_type": "code",
   "execution_count": 28,
   "id": "73eca6f1-fe75-417b-ab10-eb6bcfffb056",
   "metadata": {},
   "outputs": [
    {
     "data": {
      "image/png": "[encoded data removed]",
      "text/plain": [
       "<Figure size 432x288 with 1 Axes>"
      ]
     },
     "metadata": {
      "needs_background": "light"
     },
     "output_type": "display_data"
    }
   ],
   "source": [
    "# print accuracy under graph;\n",
    "plt.plot(cnn_20.history.history['loss'], label='train loss')\n",
    "plt.plot(cnn_20.history.history['val_loss'], label='val loss') "
   ]
  },
  {
   "cell_type": "code",
   "execution_count": null,
   "id": "ef6deae7-a3d4-4592-b982-f77588423600",
   "metadata": {},
   "outputs": [],
   "source": []
  },
  {
   "cell_type": "code",
   "execution_count": 24,
   "id": "ec0774ef-4456-4b21-b516-75315fe82dd6",
   "metadata": {},
   "outputs": [],
   "source": [
    "# cnn_20.save(\"imbalanced/CNN_20_layers.h5\")"
   ]
  },
  {
   "cell_type": "code",
   "execution_count": null,
   "id": "b7a83d39-f975-4a16-94de-878776ca9721",
   "metadata": {},
   "outputs": [],
   "source": []
  },
  {
   "cell_type": "code",
   "execution_count": 25,
   "id": "6b3d6841-dadd-4848-bcab-d6d0a4f0adb2",
   "metadata": {},
   "outputs": [
    {
     "data": {
      "text/plain": [
       "keras.engine.sequential.Sequential"
      ]
     },
     "execution_count": 25,
     "metadata": {},
     "output_type": "execute_result"
    }
   ],
   "source": [
    "type(cnn_14)"
   ]
  },
  {
   "cell_type": "code",
   "execution_count": null,
   "id": "007cf096-af96-4ec0-8c78-4536bf7208ce",
   "metadata": {},
   "outputs": [],
   "source": []
  },
  {
   "cell_type": "code",
   "execution_count": null,
   "id": "066f595f-df39-43f5-916e-a4e680409ce7",
   "metadata": {},
   "outputs": [],
   "source": []
  },
  {
   "cell_type": "code",
   "execution_count": null,
   "id": "f3234b24-a94b-46ca-8d62-071b662968a7",
   "metadata": {},
   "outputs": [],
   "source": []
  },
  {
   "cell_type": "code",
   "execution_count": null,
   "id": "b5fe2cef-9877-4b88-9bf1-da42379b8ddb",
   "metadata": {},
   "outputs": [],
   "source": []
  },
  {
   "cell_type": "code",
   "execution_count": null,
   "id": "de650872-a976-4459-b99e-b3767d8e82f2",
   "metadata": {},
   "outputs": [],
   "source": []
  }
 ],
 "metadata": {
  "kernelspec": {
   "display_name": "Python 3 (ipykernel)",
   "language": "python",
   "name": "python3"
  },
  "language_info": {
   "codemirror_mode": {
    "name": "ipython",
    "version": 3
   },
   "file_extension": ".py",
   "mimetype": "text/x-python",
   "name": "python",
   "nbconvert_exporter": "python",
   "pygments_lexer": "ipython3",
   "version": "3.9.5"
  }
 },
 "nbformat": 4,
 "nbformat_minor": 5
}
