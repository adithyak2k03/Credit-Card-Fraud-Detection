{
 "cells": [
  {
   "cell_type": "code",
   "execution_count": 1,
   "id": "9a489b4c-7b31-4913-aac2-72eff642e6e2",
   "metadata": {},
   "outputs": [],
   "source": [
    "import pandas as pd\n",
    "import numpy as np\n",
    "import pickle"
   ]
  },
  {
   "cell_type": "code",
   "execution_count": 2,
   "id": "a080b5a8-38f0-4162-8c09-5620bf1aeae3",
   "metadata": {},
   "outputs": [],
   "source": [
    "from sklearn.metrics import accuracy_score,precision_score, recall_score, f1_score\n",
    "from tensorflow.keras.models import load_model\n"
   ]
  },
  {
   "cell_type": "code",
   "execution_count": 3,
   "id": "9ea0feb3-c332-4630-b895-48239753e67f",
   "metadata": {},
   "outputs": [],
   "source": [
    "path=\"imbalanced/\"\n",
    "# path=\"upsampled/\"\n",
    "# path=\"downsampled/\"\n"
   ]
  },
  {
   "cell_type": "code",
   "execution_count": 4,
   "id": "268b6460-248f-4956-a3c2-9e8a7e441e0c",
   "metadata": {},
   "outputs": [],
   "source": [
    "if path==\"imbalanced/\":\n",
    "    dataset = pd.read_csv('creditcard_prep.csv')\n",
    "elif path==\"upsampled/\":\n",
    "    dataset = pd.read_csv('creditcard_up.csv')\n",
    "elif path==\"downsampled/\":\n",
    "    dataset = pd.read_csv('creditcard_down.csv')"
   ]
  },
  {
   "cell_type": "code",
   "execution_count": 5,
   "id": "3eb1537c-f3d6-407d-ad33-1939d2a13eee",
   "metadata": {},
   "outputs": [],
   "source": [
    "X_test = pickle.load(open(path+'X_test.pkl', 'rb'))\n",
    "y_test = pickle.load(open(path+'y_test.pkl', 'rb'))\n",
    "X_train = pickle.load(open(path+'X_train.pkl', 'rb'))\n",
    "y_train = pickle.load(open(path+'y_train.pkl', 'rb'))"
   ]
  },
  {
   "cell_type": "code",
   "execution_count": null,
   "id": "78f4e835-f7a2-460e-aafb-8b1b61bace6f",
   "metadata": {},
   "outputs": [],
   "source": []
  },
  {
   "cell_type": "code",
   "execution_count": null,
   "id": "3f6ba65c-fc57-48f7-a355-37cfde13ace4",
   "metadata": {},
   "outputs": [],
   "source": []
  },
  {
   "cell_type": "code",
   "execution_count": 6,
   "id": "9f69d942-0c13-4eb3-9957-c0d872923d05",
   "metadata": {},
   "outputs": [],
   "source": [
    "model = pickle.load(open(path+'LR.pkl', 'rb'))\n",
    "y_pred = model.predict(X_test)\n"
   ]
  },
  {
   "cell_type": "code",
   "execution_count": 7,
   "id": "762faab3-a044-48d8-8a7a-958e02749a02",
   "metadata": {},
   "outputs": [
    {
     "name": "stdout",
     "output_type": "stream",
     "text": [
      "Accuracy:  0.999\n",
      "Precision:  0.883\n",
      "Recall:  0.619\n",
      "F1-Score:  0.864\n"
     ]
    }
   ],
   "source": [
    "print(\"Accuracy: \", accuracy_score(y_test, y_pred).round(3))\n",
    "print(\"Precision: \", precision_score(y_test, y_pred).round(3))\n",
    "print(\"Recall: \", recall_score(y_test, y_pred).round(3)) \n",
    "print(\"F1-Score: \", f1_score(y_test, y_pred, average='macro').round(3))"
   ]
  },
  {
   "cell_type": "code",
   "execution_count": 24,
   "id": "2893dd23-a9b2-487c-a192-b186a092ec23",
   "metadata": {},
   "outputs": [],
   "source": [
    "# kernel='rbf'\n",
    "# kernel='linear'\n",
    "kernel='poly'\n",
    "# kernel='sigmoid'\n",
    "\n",
    "if kernel=='rbf':\n",
    "    model = pickle.load(open(path+'svc_rbf.pkl', 'rb'))\n",
    "elif kernel=='linear':\n",
    "    model = pickle.load(open(path+'svc_lin.pkl', 'rb'))\n",
    "elif kernel=='poly':\n",
    "    model = pickle.load(open(path+'svc_poly.pkl', 'rb'))\n",
    "elif kernel=='sigmoid':\n",
    "    model = pickle.load(open(path+'svc_sig.pkl', 'rb'))\n",
    "\n",
    "y_pred = model.predict(X_test)\n"
   ]
  },
  {
   "cell_type": "code",
   "execution_count": 25,
   "id": "5abd4787-4107-4448-ac79-043367775f4c",
   "metadata": {},
   "outputs": [
    {
     "name": "stdout",
     "output_type": "stream",
     "text": [
      "Accuracy:  0.999\n",
      "Precision:  0.93\n",
      "Recall:  0.721\n",
      "F1-Score:  0.906\n"
     ]
    }
   ],
   "source": [
    "print(\"Accuracy: \", accuracy_score(y_test, y_pred).round(3))\n",
    "print(\"Precision: \", precision_score(y_test, y_pred).round(3))\n",
    "print(\"Recall: \", recall_score(y_test, y_pred).round(3)) \n",
    "print(\"F1-Score: \", f1_score(y_test, y_pred, average='macro').round(3))"
   ]
  },
  {
   "cell_type": "code",
   "execution_count": 11,
   "id": "2fb1923f-a00b-4a91-9c8b-3054c39dd675",
   "metadata": {},
   "outputs": [],
   "source": [
    "model = pickle.load(open(path+'knn.pkl', 'rb'))\n",
    "\n",
    "y_pred = model.predict(X_test)\n"
   ]
  },
  {
   "cell_type": "code",
   "execution_count": 12,
   "id": "31e64467-a5dc-4a46-8c77-cbd71aee9c49",
   "metadata": {},
   "outputs": [
    {
     "name": "stdout",
     "output_type": "stream",
     "text": [
      "Accuracy:  0.999\n",
      "Precision:  0.947\n",
      "Recall:  0.728\n",
      "F1-Score:  0.911\n"
     ]
    }
   ],
   "source": [
    "print(\"Accuracy: \", accuracy_score(y_test, y_pred).round(3))\n",
    "print(\"Precision: \", precision_score(y_test, y_pred).round(3))\n",
    "print(\"Recall: \", recall_score(y_test, y_pred).round(3)) \n",
    "print(\"F1-Score: \", f1_score(y_test, y_pred, average='macro').round(3))"
   ]
  },
  {
   "cell_type": "code",
   "execution_count": 13,
   "id": "7d017e8f-bfae-41f9-97a3-a4478ea688ff",
   "metadata": {},
   "outputs": [],
   "source": [
    "model = pickle.load(open(path+'dt.pkl', 'rb'))\n",
    "y_pred = model.predict(X_test)\n"
   ]
  },
  {
   "cell_type": "code",
   "execution_count": 14,
   "id": "a90c0a6d-e094-4a59-81d8-3756eee53116",
   "metadata": {},
   "outputs": [
    {
     "name": "stdout",
     "output_type": "stream",
     "text": [
      "Accuracy:  0.999\n",
      "Precision:  0.794\n",
      "Recall:  0.735\n",
      "F1-Score:  0.881\n"
     ]
    }
   ],
   "source": [
    "print(\"Accuracy: \", accuracy_score(y_test, y_pred).round(3))\n",
    "print(\"Precision: \", precision_score(y_test, y_pred).round(3))\n",
    "print(\"Recall: \", recall_score(y_test, y_pred).round(3)) \n",
    "print(\"F1-Score: \", f1_score(y_test, y_pred, average='macro').round(3))"
   ]
  },
  {
   "cell_type": "code",
   "execution_count": 15,
   "id": "fde43c44-e3bd-4e55-9619-51574cb83a78",
   "metadata": {},
   "outputs": [],
   "source": [
    "model = pickle.load(open(path+'rf.pkl', 'rb'))\n",
    "y_pred = model.predict(X_test)\n"
   ]
  },
  {
   "cell_type": "code",
   "execution_count": 16,
   "id": "9b04475b-502d-445b-953f-371c5f931dc4",
   "metadata": {},
   "outputs": [
    {
     "name": "stdout",
     "output_type": "stream",
     "text": [
      "Accuracy:  0.999\n",
      "Precision:  0.94\n",
      "Recall:  0.748\n",
      "F1-Score:  0.917\n"
     ]
    }
   ],
   "source": [
    "print(\"Accuracy: \", accuracy_score(y_test, y_pred).round(3))\n",
    "print(\"Precision: \", precision_score(y_test, y_pred).round(3))\n",
    "print(\"Recall: \", recall_score(y_test, y_pred).round(3)) \n",
    "print(\"F1-Score: \", f1_score(y_test, y_pred, average='macro').round(3))"
   ]
  },
  {
   "cell_type": "code",
   "execution_count": 17,
   "id": "8ae62c23-226e-4c3f-9d9c-e58b83a0844c",
   "metadata": {},
   "outputs": [],
   "source": [
    "model = pickle.load(open(path+'xgb.pkl', 'rb'))\n",
    "\n",
    "y_pred = model.predict(X_test)"
   ]
  },
  {
   "cell_type": "code",
   "execution_count": 18,
   "id": "06622f73-a403-4d66-a25e-fd09fdc73b07",
   "metadata": {},
   "outputs": [
    {
     "name": "stdout",
     "output_type": "stream",
     "text": [
      "Accuracy:  1.0\n",
      "Precision:  0.935\n",
      "Recall:  0.782\n",
      "F1-Score:  0.926\n"
     ]
    }
   ],
   "source": [
    "print(\"Accuracy: \", accuracy_score(y_test, y_pred).round(3))\n",
    "print(\"Precision: \", precision_score(y_test, y_pred).round(3))\n",
    "print(\"Recall: \", recall_score(y_test, y_pred).round(3)) \n",
    "print(\"F1-Score: \", f1_score(y_test, y_pred, average='macro').round(3))"
   ]
  },
  {
   "cell_type": "code",
   "execution_count": null,
   "id": "79a9dd90-a995-4294-b65f-937dc31a102d",
   "metadata": {},
   "outputs": [],
   "source": []
  },
  {
   "cell_type": "code",
   "execution_count": 19,
   "id": "1730be9a-4cae-4f50-a33b-094333e24bc1",
   "metadata": {},
   "outputs": [
    {
     "name": "stdout",
     "output_type": "stream",
     "text": [
      "2671/2671 [==============================] - 3s 1ms/step\n"
     ]
    }
   ],
   "source": [
    "model = load_model(path+'ANN_model.h5')\n",
    "\n",
    "y_pred = model.predict(X_test)\n",
    "for i in range(len(y_pred)):\n",
    "    y_pred[i]=y_pred[i].round()"
   ]
  },
  {
   "cell_type": "code",
   "execution_count": 20,
   "id": "b9811855-3c75-40f6-ab4a-41af99c8f756",
   "metadata": {},
   "outputs": [
    {
     "name": "stdout",
     "output_type": "stream",
     "text": [
      "Accuracy:  0.999\n",
      "Precision:  0.768\n",
      "Recall:  0.81\n",
      "F1-Score:  0.894\n"
     ]
    }
   ],
   "source": [
    "print(\"Accuracy: \", accuracy_score(y_test, y_pred).round(3))\n",
    "print(\"Precision: \", precision_score(y_test, y_pred).round(3))\n",
    "print(\"Recall: \", recall_score(y_test, y_pred).round(3)) \n",
    "print(\"F1-Score: \", f1_score(y_test, y_pred, average='macro').round(3))"
   ]
  },
  {
   "cell_type": "code",
   "execution_count": null,
   "id": "c68cb2f7-de6c-462b-bcd0-90d6380b86c4",
   "metadata": {},
   "outputs": [],
   "source": []
  },
  {
   "cell_type": "code",
   "execution_count": null,
   "id": "8bae3f91-6ddf-4823-a9e0-03dc43af0817",
   "metadata": {},
   "outputs": [],
   "source": []
  },
  {
   "cell_type": "code",
   "execution_count": 21,
   "id": "78835bf7-1f80-433c-847d-d0f5d61777ab",
   "metadata": {},
   "outputs": [
    {
     "name": "stdout",
     "output_type": "stream",
     "text": [
      "2671/2671 [==============================] - 7s 2ms/step\n",
      "Accuracy:  0.999\n",
      "Precision:  0.958\n",
      "Recall:  0.469\n",
      "F1-Score:  0.815\n"
     ]
    }
   ],
   "source": [
    "num_layers='17'\n",
    "\n",
    "if num_layers=='14':\n",
    "    model = load_model(path+'CNN_14_layers.h5')\n",
    "elif num_layers=='17':\n",
    "    model = load_model(path+'CNN_17_layers.h5')\n",
    "elif num_layers=='20':\n",
    "    model = load_model(path+'CNN_20_layers.h5')\n",
    "    \n",
    "\n",
    "y_pred = model.predict(X_test)\n",
    "for i in range(len(y_pred)):\n",
    "    y_pred[i]=y_pred[i].round()\n",
    "\n",
    "    \n",
    "print(\"Accuracy: \", accuracy_score(y_test, y_pred).round(3))\n",
    "print(\"Precision: \", precision_score(y_test, y_pred).round(3))\n",
    "print(\"Recall: \", recall_score(y_test, y_pred).round(3)) \n",
    "print(\"F1-Score: \", f1_score(y_test, y_pred, average='macro').round(3))"
   ]
  },
  {
   "cell_type": "code",
   "execution_count": null,
   "id": "12ba5e7f-45e6-45d8-910d-ff6f6c32288b",
   "metadata": {},
   "outputs": [],
   "source": []
  },
  {
   "cell_type": "code",
   "execution_count": null,
   "id": "a3967cc5-25e8-42f7-b719-6d29ff159954",
   "metadata": {},
   "outputs": [],
   "source": []
  }
 ],
 "metadata": {
  "kernelspec": {
   "display_name": "Python 3 (ipykernel)",
   "language": "python",
   "name": "python3"
  },
  "language_info": {
   "codemirror_mode": {
    "name": "ipython",
    "version": 3
   },
   "file_extension": ".py",
   "mimetype": "text/x-python",
   "name": "python",
   "nbconvert_exporter": "python",
   "pygments_lexer": "ipython3",
   "version": "3.9.5"
  }
 },
 "nbformat": 4,
 "nbformat_minor": 5
}
