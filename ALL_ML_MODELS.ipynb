{
 "cells": [
  {
   "cell_type": "code",
   "execution_count": 1,
   "id": "81d825aa-83b0-4a29-b89d-803f6ca1db37",
   "metadata": {},
   "outputs": [],
   "source": [
    "import pandas as pd\n",
    "import numpy as np\n",
    "import pickle"
   ]
  },
  {
   "cell_type": "code",
   "execution_count": 2,
   "id": "5d570c72-238f-49df-a9e7-d4eb6692dd0f",
   "metadata": {
    "tags": []
   },
   "outputs": [],
   "source": [
    "# path=\"imbalanced/\"\n",
    "# path=\"upsampled/\"\n",
    "path=\"downsampled/\""
   ]
  },
  {
   "cell_type": "code",
   "execution_count": 3,
   "id": "d5ff2b1b-d378-4d1b-88ab-876f4738e401",
   "metadata": {},
   "outputs": [],
   "source": [
    "if path==\"imbalanced/\":\n",
    "    dataset = pd.read_csv('creditcard_prep.csv')\n",
    "elif path==\"upsampled/\":\n",
    "    dataset = pd.read_csv('creditcard_up.csv')\n",
    "elif path==\"downsampled/\":\n",
    "    dataset = pd.read_csv('creditcard_down.csv')"
   ]
  },
  {
   "cell_type": "code",
   "execution_count": null,
   "id": "85e88e93-bd0a-4d64-b26a-a1f84f02f247",
   "metadata": {},
   "outputs": [],
   "source": []
  },
  {
   "cell_type": "code",
   "execution_count": 4,
   "id": "d60a32d6-1a74-4813-bb5a-a0e71660efcc",
   "metadata": {},
   "outputs": [],
   "source": [
    "X = dataset.drop(columns = ['Class'])\n",
    "y = dataset['Class']"
   ]
  },
  {
   "cell_type": "code",
   "execution_count": 5,
   "id": "ebedaa99-8070-4e8e-9ed4-47d2946ff7dc",
   "metadata": {},
   "outputs": [],
   "source": [
    "from sklearn.model_selection import train_test_split\n",
    "X_train, X_test, y_train, y_test = train_test_split(X, y, test_size = 0.3, random_state = 0)"
   ]
  },
  {
   "cell_type": "code",
   "execution_count": null,
   "id": "8f3ea2d7-9faf-4391-8dac-50718dda058b",
   "metadata": {},
   "outputs": [],
   "source": []
  },
  {
   "cell_type": "code",
   "execution_count": 6,
   "id": "0355bc3d-4305-4c03-b868-4c6ee51b5725",
   "metadata": {},
   "outputs": [],
   "source": [
    "from sklearn.preprocessing import StandardScaler\n",
    "sc = StandardScaler()\n",
    "X_train = sc.fit_transform(X_train)\n",
    "X_test = sc.transform(X_test)"
   ]
  },
  {
   "cell_type": "code",
   "execution_count": 7,
   "id": "19cd701d-045a-4fc1-a076-0cdaf9866705",
   "metadata": {},
   "outputs": [],
   "source": [
    "\n",
    "pickle.dump(X_train,open(path+'X_train.pkl', 'wb'))\n",
    "pickle.dump(y_train,open(path+'y_train.pkl', 'wb'))\n",
    "pickle.dump(X_test,open(path+'X_test.pkl', 'wb'))\n",
    "pickle.dump(y_test,open(path+'y_test.pkl', 'wb'))\n"
   ]
  },
  {
   "cell_type": "code",
   "execution_count": 8,
   "id": "8f47bae3-bdc6-4eb2-9eff-ce78a23a15b4",
   "metadata": {
    "tags": []
   },
   "outputs": [
    {
     "data": {
      "text/plain": [
       "array([ 0.60341398, -0.47334278,  0.47156373, -0.35058366,  0.48681185,\n",
       "        1.0594863 ,  0.44237473,  0.02252688,  0.58060343,  0.5768314 ,\n",
       "       -0.80337234,  0.71729204, -0.29437976,  0.74763777, -0.65946977,\n",
       "        0.55233823,  0.40861827,  0.49483868,  0.2127934 , -0.19902189,\n",
       "       -0.1702301 , -0.2703297 , -0.24741554, -2.78548552,  1.19344416,\n",
       "       -0.50547109, -0.10438203, -0.11740775, -0.15009703])"
      ]
     },
     "execution_count": 8,
     "metadata": {},
     "output_type": "execute_result"
    }
   ],
   "source": [
    "X_train[0]"
   ]
  },
  {
   "cell_type": "code",
   "execution_count": 9,
   "id": "d5ada777-25eb-4102-ad44-4a43479aee9b",
   "metadata": {},
   "outputs": [
    {
     "data": {
      "text/plain": [
       "[0.22825269,\n",
       " -0.06741917,\n",
       " 0.06620928,\n",
       " -0.42793636,\n",
       " -0.70335793,\n",
       " 1.32664106,\n",
       " 1.31029523,\n",
       " 0.40596687,\n",
       " 0.52377954,\n",
       " 0.01539789,\n",
       " -0.33314892,\n",
       " 0.51856626,\n",
       " 0.50872963,\n",
       " -0.74450048,\n",
       " 0.51444736,\n",
       " -0.17890951,\n",
       " -1.08487117,\n",
       " 0.30826322,\n",
       " -2.10211241,\n",
       " -1.15349585,\n",
       " -0.08184582,\n",
       " -0.08403335,\n",
       " 0.00730435,\n",
       " 0.40018973,\n",
       " -4.0759747,\n",
       " -1.70784662,\n",
       " 0.70055611,\n",
       " 0.76406525,\n",
       " 0.23026665,\n",
       " -0.16569231]"
      ]
     },
     "execution_count": 9,
     "metadata": {},
     "output_type": "execute_result"
    }
   ],
   "source": [
    "[ 0.22825269, -0.06741917,  0.06620928, -0.42793636, -0.70335793,1.32664106,  1.31029523,  0.40596687,  0.52377954,  0.01539789,-0.33314892,  0.51856626,  0.50872963, -0.74450048,  0.51444736,-0.17890951, -1.08487117,  0.30826322, -2.10211241, -1.15349585,-0.08184582, -0.08403335,  0.00730435,  0.40018973, -4.0759747 ,-1.70784662,  0.70055611,  0.76406525,  0.23026665, -0.16569231]"
   ]
  },
  {
   "cell_type": "code",
   "execution_count": 10,
   "id": "d2485422-da02-4f67-ab1c-7de83777b3ea",
   "metadata": {},
   "outputs": [],
   "source": [
    "from sklearn.linear_model import LogisticRegression\n",
    "classifier_LR = LogisticRegression(random_state = 0)\n",
    "classifier_LR.fit(X_train, y_train)\n",
    "pickle.dump(classifier_LR, open(path+'LR.pkl', 'wb'))"
   ]
  },
  {
   "cell_type": "code",
   "execution_count": null,
   "id": "c71c7174-b675-49f0-b3e2-de54a2b2639c",
   "metadata": {},
   "outputs": [],
   "source": []
  },
  {
   "cell_type": "code",
   "execution_count": 11,
   "id": "90117d5b-100a-4877-8479-dabb14740518",
   "metadata": {},
   "outputs": [],
   "source": [
    "# classifier_LR.predict(sc.transform([[ 0.22825269, -0.06741917,  0.06620928, -0.42793636, -0.70335793,1.32664106,  1.31029523,  0.40596687,  0.52377954,  0.01539789,-0.33314892,  0.51856626,  0.50872963, -0.74450048,  0.51444736,-0.17890951, -1.08487117,  0.30826322, -2.10211241, -1.15349585,-0.08184582, -0.08403335,  0.00730435,  0.40018973, -4.0759747 ,-1.70784662,  0.70055611,  0.76406525,  0.23026665, -0.16569231]]))"
   ]
  },
  {
   "cell_type": "code",
   "execution_count": null,
   "id": "d8eefee9-46d9-4a4f-abe9-640846c89a4c",
   "metadata": {},
   "outputs": [],
   "source": []
  },
  {
   "cell_type": "code",
   "execution_count": 12,
   "id": "63c3ac87-0c4f-4821-b1f8-d6243f04b95f",
   "metadata": {},
   "outputs": [],
   "source": [
    "from sklearn.neighbors import KNeighborsClassifier\n",
    "classifier_KNN = KNeighborsClassifier(n_neighbors = 5, metric = 'minkowski', p = 2)\n",
    "classifier_KNN.fit(X_train, y_train)\n",
    "pickle.dump(classifier_KNN, open(path+'knn.pkl', 'wb'))"
   ]
  },
  {
   "cell_type": "code",
   "execution_count": 13,
   "id": "68131ccb-8b2f-4189-8d89-218ca728368d",
   "metadata": {},
   "outputs": [],
   "source": [
    "from sklearn.svm import SVC"
   ]
  },
  {
   "cell_type": "code",
   "execution_count": 14,
   "id": "d4d825eb-14f8-4d40-a737-ffe99d2b1ac2",
   "metadata": {},
   "outputs": [],
   "source": [
    "classifier_SVC_poly = SVC(kernel = 'poly', random_state = 0)\n",
    "classifier_SVC_poly.fit(X_train, y_train)\n",
    "pickle.dump(classifier_SVC_poly, open(path+'svc_poly.pkl', 'wb'))"
   ]
  },
  {
   "cell_type": "code",
   "execution_count": 15,
   "id": "dace43e0-748a-400b-8cb3-b5722db0f2be",
   "metadata": {},
   "outputs": [],
   "source": [
    "#following cells are yet to be executed"
   ]
  },
  {
   "cell_type": "code",
   "execution_count": 16,
   "id": "569890f7-801d-4180-a835-3625f37ea9d3",
   "metadata": {},
   "outputs": [],
   "source": [
    "classifier_SVC_lin = SVC(kernel = 'linear', random_state = 0)\n",
    "classifier_SVC_lin.fit(X_train, y_train) \n",
    "pickle.dump(classifier_SVC_lin, open(path+'svc_lin.pkl', 'wb'))"
   ]
  },
  {
   "cell_type": "code",
   "execution_count": 17,
   "id": "458fa1d3-8e85-4874-b783-1f8041f434af",
   "metadata": {},
   "outputs": [],
   "source": [
    "classifier_SVC_rbf = SVC(kernel = 'rbf', random_state = 0)\n",
    "classifier_SVC_rbf.fit(X_train, y_train)\n",
    "pickle.dump(classifier_SVC_rbf, open(path+'svc_rbf.pkl', 'wb'))"
   ]
  },
  {
   "cell_type": "code",
   "execution_count": 18,
   "id": "724c35f6-75f8-4947-a242-b0f9a00837c4",
   "metadata": {},
   "outputs": [],
   "source": [
    "classifier_SVC_sig = SVC(kernel = 'sigmoid', random_state = 0)\n",
    "classifier_SVC_sig.fit(X_train, y_train)\n",
    "pickle.dump(classifier_SVC_sig, open(path+'svc_sig.pkl', 'wb'))"
   ]
  },
  {
   "cell_type": "code",
   "execution_count": 19,
   "id": "cc623427-fbd5-4ca8-8285-15499c3d1b8c",
   "metadata": {},
   "outputs": [],
   "source": [
    "from sklearn.tree import DecisionTreeClassifier\n",
    "classifier_DT = DecisionTreeClassifier(criterion = 'entropy', random_state = 0)\n",
    "classifier_DT.fit(X_train, y_train)\n",
    "pickle.dump(classifier_DT, open(path+'dt.pkl', 'wb'))"
   ]
  },
  {
   "cell_type": "code",
   "execution_count": 20,
   "id": "1d3e9ed5-92db-4f29-b7f1-b6382176e878",
   "metadata": {},
   "outputs": [],
   "source": [
    "from sklearn.ensemble import RandomForestClassifier\n",
    "classifier_RF = RandomForestClassifier(n_estimators = 10, criterion = 'entropy', random_state = 0)\n",
    "classifier_RF.fit(X_train, y_train)\n",
    "pickle.dump(classifier_RF, open(path+'rf.pkl', 'wb'))"
   ]
  },
  {
   "cell_type": "code",
   "execution_count": 21,
   "id": "59dc200c-da43-42bd-9c3f-70e194acc4c6",
   "metadata": {},
   "outputs": [],
   "source": [
    "# from sklearn.metrics import accuracy_score,precision_score, recall_score, f1_score\n",
    "# y_pred=classifier_RF.predict(X_test)\n",
    "\n",
    "# # print(\"Accuracy: \", classifier_RF.score(X_test, y_test).round(3))\n",
    "# print(\"Accuracy: \", accuracy_score(y_test, y_pred).round(3))\n",
    "# print(\"Precision: \", precision_score(y_test, y_pred).round(3))\n",
    "# print(\"Recall: \", recall_score(y_test, y_pred).round(3)) \n",
    "# print(\"F1-Score: \", f1_score(y_test, y_pred, average='macro').round(3))\n",
    "   "
   ]
  },
  {
   "cell_type": "code",
   "execution_count": 22,
   "id": "5a6e9d03-dbc2-4b9d-8abc-72d7cd481c59",
   "metadata": {},
   "outputs": [],
   "source": [
    "from xgboost import XGBClassifier\n",
    "classifier_XG = XGBClassifier()\n",
    "classifier_XG.fit(X_train, y_train)\n",
    "pickle.dump(classifier_XG, open(path+'xgb.pkl', 'wb'))"
   ]
  },
  {
   "cell_type": "code",
   "execution_count": 23,
   "id": "3c3c07fc-26ed-4dae-9af4-fded2e9dccd7",
   "metadata": {
    "tags": []
   },
   "outputs": [],
   "source": [
    "# help(accuracy_score)"
   ]
  },
  {
   "cell_type": "code",
   "execution_count": null,
   "id": "de5fc6eb-0f3a-487c-8b39-7c61c5eca8c7",
   "metadata": {},
   "outputs": [],
   "source": []
  },
  {
   "cell_type": "code",
   "execution_count": 24,
   "id": "dd0a0cf8-a3ec-4750-835b-e547a683c55c",
   "metadata": {},
   "outputs": [
    {
     "data": {
      "text/plain": [
       "(758, 29)"
      ]
     },
     "execution_count": 24,
     "metadata": {},
     "output_type": "execute_result"
    }
   ],
   "source": [
    "X_train.shape"
   ]
  },
  {
   "cell_type": "code",
   "execution_count": null,
   "id": "372befa6-0694-4bab-b8d4-2ee1ac66a9a4",
   "metadata": {},
   "outputs": [],
   "source": []
  },
  {
   "cell_type": "code",
   "execution_count": 25,
   "id": "88863c73-ec36-4014-b08a-43c6a1d6d204",
   "metadata": {},
   "outputs": [],
   "source": [
    "y_pred = classifier_LR.predict(X_test)\n",
    "\n",
    "        "
   ]
  },
  {
   "cell_type": "code",
   "execution_count": 26,
   "id": "b9a9347e-9490-4cb9-aa9e-4c4c7498cd4b",
   "metadata": {
    "tags": []
   },
   "outputs": [
    {
     "data": {
      "text/plain": [
       "326"
      ]
     },
     "execution_count": 26,
     "metadata": {},
     "output_type": "execute_result"
    }
   ],
   "source": [
    "len(y_pred)"
   ]
  },
  {
   "cell_type": "code",
   "execution_count": 27,
   "id": "38abb408-56e4-4afd-85f4-76acb266c77d",
   "metadata": {},
   "outputs": [
    {
     "data": {
      "text/plain": [
       "array([1, 0, 1, 0, 1, 1, 0, 0, 0, 1, 1, 0, 0, 0, 1, 0, 0, 1, 0, 0, 0, 0,\n",
       "       1, 0, 0, 0, 1, 0, 0, 0, 0, 1, 0, 0, 1, 0, 0, 0, 1, 0, 0, 0, 1, 1,\n",
       "       1, 0, 0, 0, 0, 0, 1, 1, 0, 0, 1, 0, 0, 0, 0, 0, 1, 0, 0, 0, 0, 1,\n",
       "       1, 0, 0, 0, 0, 0, 0, 1, 0, 0, 0, 0, 0, 0, 1, 1, 0, 1, 1, 1, 1, 0,\n",
       "       0, 0, 1, 0, 1, 0, 1, 1, 0, 1, 1, 0, 0, 1, 1, 1, 0, 1, 1, 0, 1, 1,\n",
       "       1, 0, 0, 0, 0, 1, 1, 1, 1, 0, 0, 0, 1, 1, 0, 0, 0, 0, 0, 0, 1, 1,\n",
       "       1, 1, 1, 1, 0, 0, 1, 0, 1, 0, 1, 0, 1, 1, 0, 1, 0, 0, 1, 1, 0, 1,\n",
       "       1, 0, 1, 1, 1, 0, 0, 1, 0, 1, 1, 0, 0, 0, 0, 1, 0, 1, 1, 0, 0, 1,\n",
       "       1, 0, 1, 1, 0, 0, 0, 0, 1, 1, 1, 1, 0, 0, 1, 0, 1, 0, 0, 0, 1, 0,\n",
       "       1, 1, 1, 1, 0, 0, 1, 0, 0, 1, 0, 1, 1, 0, 0, 0, 0, 1, 0, 0, 1, 0,\n",
       "       0, 1, 0, 0, 1, 0, 1, 0, 0, 0, 0, 0, 0, 1, 0, 0, 0, 1, 0, 0, 1, 0,\n",
       "       0, 1, 0, 1, 1, 0, 0, 1, 1, 0, 1, 1, 0, 0, 0, 0, 1, 0, 0, 1, 0, 0,\n",
       "       1, 0, 0, 0, 1, 0, 0, 0, 0, 0, 1, 1, 0, 0, 1, 1, 1, 0, 0, 0, 0, 0,\n",
       "       0, 0, 0, 1, 0, 0, 0, 0, 1, 0, 0, 0, 1, 1, 1, 0, 0, 1, 0, 1, 1, 0,\n",
       "       0, 0, 1, 1, 1, 0, 1, 0, 0, 1, 0, 1, 0, 0, 0, 1, 1, 0], dtype=int64)"
      ]
     },
     "execution_count": 27,
     "metadata": {},
     "output_type": "execute_result"
    }
   ],
   "source": [
    "y_pred"
   ]
  },
  {
   "cell_type": "code",
   "execution_count": null,
   "id": "f9365274-e0ad-46b5-9408-22ec86160876",
   "metadata": {},
   "outputs": [],
   "source": []
  },
  {
   "cell_type": "code",
   "execution_count": null,
   "id": "ae8300ac",
   "metadata": {},
   "outputs": [],
   "source": []
  }
 ],
 "metadata": {
  "kernelspec": {
   "display_name": "Python 3 (ipykernel)",
   "language": "python",
   "name": "python3"
  },
  "language_info": {
   "codemirror_mode": {
    "name": "ipython",
    "version": 3
   },
   "file_extension": ".py",
   "mimetype": "text/x-python",
   "name": "python",
   "nbconvert_exporter": "python",
   "pygments_lexer": "ipython3",
   "version": "3.9.5"
  }
 },
 "nbformat": 4,
 "nbformat_minor": 5
}
