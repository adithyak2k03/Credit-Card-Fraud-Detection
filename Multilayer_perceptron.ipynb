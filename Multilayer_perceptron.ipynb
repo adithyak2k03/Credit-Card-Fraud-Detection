{
 "cells": [
  {
   "cell_type": "code",
   "execution_count": 1,
   "id": "4d02872a-a1b7-4dc4-a0ab-31ae322000c3",
   "metadata": {},
   "outputs": [],
   "source": [
    "import pandas as pd\n",
    "import numpy as np"
   ]
  },
  {
   "cell_type": "code",
   "execution_count": 2,
   "id": "af7dc13e-f06a-43d2-b127-13f8b7e6f31c",
   "metadata": {},
   "outputs": [
    {
     "data": {
      "text/html": [
       "<div>\n",
       "<style scoped>\n",
       "    .dataframe tbody tr th:only-of-type {\n",
       "        vertical-align: middle;\n",
       "    }\n",
       "\n",
       "    .dataframe tbody tr th {\n",
       "        vertical-align: top;\n",
       "    }\n",
       "\n",
       "    .dataframe thead th {\n",
       "        text-align: right;\n",
       "    }\n",
       "</style>\n",
       "<table border=\"1\" class=\"dataframe\">\n",
       "  <thead>\n",
       "    <tr style=\"text-align: right;\">\n",
       "      <th></th>\n",
       "      <th>V1</th>\n",
       "      <th>V2</th>\n",
       "      <th>V3</th>\n",
       "      <th>V4</th>\n",
       "      <th>V5</th>\n",
       "      <th>V6</th>\n",
       "      <th>V7</th>\n",
       "      <th>V8</th>\n",
       "      <th>V9</th>\n",
       "      <th>V10</th>\n",
       "      <th>...</th>\n",
       "      <th>V21</th>\n",
       "      <th>V22</th>\n",
       "      <th>V23</th>\n",
       "      <th>V24</th>\n",
       "      <th>V25</th>\n",
       "      <th>V26</th>\n",
       "      <th>V27</th>\n",
       "      <th>V28</th>\n",
       "      <th>normalizedAmount</th>\n",
       "      <th>Class</th>\n",
       "    </tr>\n",
       "  </thead>\n",
       "  <tbody>\n",
       "    <tr>\n",
       "      <th>0</th>\n",
       "      <td>-5.685013</td>\n",
       "      <td>5.776516</td>\n",
       "      <td>-7.064977</td>\n",
       "      <td>5.902715</td>\n",
       "      <td>-4.715564</td>\n",
       "      <td>-1.755633</td>\n",
       "      <td>-6.958679</td>\n",
       "      <td>3.877795</td>\n",
       "      <td>-5.541529</td>\n",
       "      <td>-7.502112</td>\n",
       "      <td>...</td>\n",
       "      <td>1.128641</td>\n",
       "      <td>-0.962960</td>\n",
       "      <td>-0.110045</td>\n",
       "      <td>-0.177733</td>\n",
       "      <td>-0.089175</td>\n",
       "      <td>-0.049447</td>\n",
       "      <td>0.303445</td>\n",
       "      <td>0.219380</td>\n",
       "      <td>0.058429</td>\n",
       "      <td>1</td>\n",
       "    </tr>\n",
       "    <tr>\n",
       "      <th>1</th>\n",
       "      <td>1.738348</td>\n",
       "      <td>-0.830540</td>\n",
       "      <td>-1.035978</td>\n",
       "      <td>-0.058083</td>\n",
       "      <td>0.480442</td>\n",
       "      <td>1.822751</td>\n",
       "      <td>-0.666923</td>\n",
       "      <td>0.591069</td>\n",
       "      <td>0.921700</td>\n",
       "      <td>-0.059426</td>\n",
       "      <td>...</td>\n",
       "      <td>-0.306775</td>\n",
       "      <td>-0.882622</td>\n",
       "      <td>0.439391</td>\n",
       "      <td>-0.973706</td>\n",
       "      <td>-0.806525</td>\n",
       "      <td>0.219390</td>\n",
       "      <td>-0.020649</td>\n",
       "      <td>-0.054579</td>\n",
       "      <td>-0.056273</td>\n",
       "      <td>0</td>\n",
       "    </tr>\n",
       "    <tr>\n",
       "      <th>2</th>\n",
       "      <td>-0.525485</td>\n",
       "      <td>-0.072842</td>\n",
       "      <td>-1.563655</td>\n",
       "      <td>0.479742</td>\n",
       "      <td>-0.190838</td>\n",
       "      <td>0.598794</td>\n",
       "      <td>1.911503</td>\n",
       "      <td>0.283636</td>\n",
       "      <td>-0.369490</td>\n",
       "      <td>-0.673894</td>\n",
       "      <td>...</td>\n",
       "      <td>0.465036</td>\n",
       "      <td>0.774206</td>\n",
       "      <td>1.032823</td>\n",
       "      <td>-1.092994</td>\n",
       "      <td>-1.420865</td>\n",
       "      <td>-0.930977</td>\n",
       "      <td>0.136462</td>\n",
       "      <td>0.308802</td>\n",
       "      <td>1.358599</td>\n",
       "      <td>0</td>\n",
       "    </tr>\n",
       "    <tr>\n",
       "      <th>3</th>\n",
       "      <td>-2.150855</td>\n",
       "      <td>2.187917</td>\n",
       "      <td>-3.430516</td>\n",
       "      <td>0.119476</td>\n",
       "      <td>-0.173210</td>\n",
       "      <td>0.290700</td>\n",
       "      <td>-2.808988</td>\n",
       "      <td>-2.679351</td>\n",
       "      <td>-0.556685</td>\n",
       "      <td>-4.485483</td>\n",
       "      <td>...</td>\n",
       "      <td>-0.073205</td>\n",
       "      <td>0.561496</td>\n",
       "      <td>-0.075034</td>\n",
       "      <td>-0.437619</td>\n",
       "      <td>0.353841</td>\n",
       "      <td>-0.521339</td>\n",
       "      <td>0.144465</td>\n",
       "      <td>0.026588</td>\n",
       "      <td>-0.228093</td>\n",
       "      <td>1</td>\n",
       "    </tr>\n",
       "    <tr>\n",
       "      <th>4</th>\n",
       "      <td>1.626242</td>\n",
       "      <td>-0.820035</td>\n",
       "      <td>-0.346565</td>\n",
       "      <td>1.361828</td>\n",
       "      <td>-0.350868</td>\n",
       "      <td>1.012204</td>\n",
       "      <td>-0.636001</td>\n",
       "      <td>0.334875</td>\n",
       "      <td>1.173782</td>\n",
       "      <td>0.082481</td>\n",
       "      <td>...</td>\n",
       "      <td>-0.102978</td>\n",
       "      <td>-0.353086</td>\n",
       "      <td>0.167590</td>\n",
       "      <td>0.181979</td>\n",
       "      <td>-0.296155</td>\n",
       "      <td>-0.898292</td>\n",
       "      <td>0.047243</td>\n",
       "      <td>-0.007560</td>\n",
       "      <td>0.236286</td>\n",
       "      <td>0</td>\n",
       "    </tr>\n",
       "  </tbody>\n",
       "</table>\n",
       "<p>5 rows × 30 columns</p>\n",
       "</div>"
      ],
      "text/plain": [
       "         V1        V2        V3        V4        V5        V6        V7  \\\n",
       "0 -5.685013  5.776516 -7.064977  5.902715 -4.715564 -1.755633 -6.958679   \n",
       "1  1.738348 -0.830540 -1.035978 -0.058083  0.480442  1.822751 -0.666923   \n",
       "2 -0.525485 -0.072842 -1.563655  0.479742 -0.190838  0.598794  1.911503   \n",
       "3 -2.150855  2.187917 -3.430516  0.119476 -0.173210  0.290700 -2.808988   \n",
       "4  1.626242 -0.820035 -0.346565  1.361828 -0.350868  1.012204 -0.636001   \n",
       "\n",
       "         V8        V9       V10  ...       V21       V22       V23       V24  \\\n",
       "0  3.877795 -5.541529 -7.502112  ...  1.128641 -0.962960 -0.110045 -0.177733   \n",
       "1  0.591069  0.921700 -0.059426  ... -0.306775 -0.882622  0.439391 -0.973706   \n",
       "2  0.283636 -0.369490 -0.673894  ...  0.465036  0.774206  1.032823 -1.092994   \n",
       "3 -2.679351 -0.556685 -4.485483  ... -0.073205  0.561496 -0.075034 -0.437619   \n",
       "4  0.334875  1.173782  0.082481  ... -0.102978 -0.353086  0.167590  0.181979   \n",
       "\n",
       "        V25       V26       V27       V28  normalizedAmount  Class  \n",
       "0 -0.089175 -0.049447  0.303445  0.219380          0.058429      1  \n",
       "1 -0.806525  0.219390 -0.020649 -0.054579         -0.056273      0  \n",
       "2 -1.420865 -0.930977  0.136462  0.308802          1.358599      0  \n",
       "3  0.353841 -0.521339  0.144465  0.026588         -0.228093      1  \n",
       "4 -0.296155 -0.898292  0.047243 -0.007560          0.236286      0  \n",
       "\n",
       "[5 rows x 30 columns]"
      ]
     },
     "execution_count": 2,
     "metadata": {},
     "output_type": "execute_result"
    }
   ],
   "source": [
    "dataset = pd.read_csv(\"using_datasets_now/creditcard_down.csv\")\n",
    "dataset.head()"
   ]
  },
  {
   "cell_type": "code",
   "execution_count": 3,
   "id": "0bc65067-462d-43b5-ae57-b461ea92e6c5",
   "metadata": {},
   "outputs": [],
   "source": [
    "X=dataset.iloc[:,:-1]\n",
    "y=dataset.iloc[:,-1]"
   ]
  },
  {
   "cell_type": "code",
   "execution_count": 4,
   "id": "a9b43a8f-31ab-4f61-a7c9-0a2492286b39",
   "metadata": {},
   "outputs": [],
   "source": [
    "from sklearn.model_selection import train_test_split\n",
    "X_train, X_test, y_train, y_test = train_test_split(X, y, test_size = 0.3, random_state=0)"
   ]
  },
  {
   "cell_type": "code",
   "execution_count": 11,
   "id": "2f3f3ed1-2ed2-40ff-b666-bc17493d091c",
   "metadata": {},
   "outputs": [
    {
     "name": "stdout",
     "output_type": "stream",
     "text": [
      "Model: \"sequential_1\"\n",
      "_________________________________________________________________\n",
      " Layer (type)                Output Shape              Param #   \n",
      "=================================================================\n",
      " dense_5 (Dense)             (None, 16)                480       \n",
      "                                                                 \n",
      " dense_6 (Dense)             (None, 24)                408       \n",
      "                                                                 \n",
      " dropout_1 (Dropout)         (None, 24)                0         \n",
      "                                                                 \n",
      " dense_7 (Dense)             (None, 20)                500       \n",
      "                                                                 \n",
      " dense_8 (Dense)             (None, 24)                504       \n",
      "                                                                 \n",
      " dense_9 (Dense)             (None, 1)                 25        \n",
      "                                                                 \n",
      "=================================================================\n",
      "Total params: 1,917\n",
      "Trainable params: 1,917\n",
      "Non-trainable params: 0\n",
      "_________________________________________________________________\n"
     ]
    }
   ],
   "source": [
    "from tensorflow.keras import Sequential\n",
    "from tensorflow.keras.layers import Dense, Flatten, Dropout\n",
    "from tensorflow.keras.models import load_model\n",
    "import tensorflow as tf\n",
    "from tensorflow import keras\n",
    "\n",
    "dnn_model = Sequential()\n",
    "\n",
    "dnn_model.add(Dense(units=16, input_dim=29,activation='relu'))\n",
    "dnn_model.add(Dense(units=24, activation='relu'))\n",
    "\n",
    "dnn_model.add(Dropout(rate=0.4))\n",
    "\n",
    "dnn_model.add(Dense(units=20,activation='relu'))\n",
    "dnn_model.add(Dense(units=24,activation='relu'))\n",
    "\n",
    "dnn_model.add(Dense(units=1,activation='sigmoid'))\n",
    "\n",
    "#Summary the model\n",
    "dnn_model.summary() "
   ]
  },
  {
   "cell_type": "code",
   "execution_count": 6,
   "id": "b84d6675-0ce5-4bbd-829a-5c9f9b506d97",
   "metadata": {},
   "outputs": [],
   "source": [
    "dnn_model.compile(optimizer='adam',loss='binary_crossentropy',metrics=['accuracy'])\n"
   ]
  },
  {
   "cell_type": "code",
   "execution_count": 7,
   "id": "c9315212-3357-4413-adc8-ba2d0e42506c",
   "metadata": {},
   "outputs": [
    {
     "name": "stdout",
     "output_type": "stream",
     "text": [
      "Epoch 1/10\n",
      "51/51 [==============================] - 2s 7ms/step - loss: 0.5366 - accuracy: 0.6794 - val_loss: 0.4110 - val_accuracy: 0.9049\n",
      "Epoch 2/10\n",
      "51/51 [==============================] - 0s 3ms/step - loss: 0.3972 - accuracy: 0.8694 - val_loss: 0.2681 - val_accuracy: 0.9264\n",
      "Epoch 3/10\n",
      "51/51 [==============================] - 0s 3ms/step - loss: 0.2596 - accuracy: 0.9129 - val_loss: 0.2011 - val_accuracy: 0.9325\n",
      "Epoch 4/10\n",
      "51/51 [==============================] - 0s 4ms/step - loss: 0.2209 - accuracy: 0.9235 - val_loss: 0.1923 - val_accuracy: 0.9356\n",
      "Epoch 5/10\n",
      "51/51 [==============================] - 0s 4ms/step - loss: 0.1988 - accuracy: 0.9195 - val_loss: 0.1916 - val_accuracy: 0.9356\n",
      "Epoch 6/10\n",
      "51/51 [==============================] - 0s 3ms/step - loss: 0.1810 - accuracy: 0.9354 - val_loss: 0.1894 - val_accuracy: 0.9387\n",
      "Epoch 7/10\n",
      "51/51 [==============================] - 0s 3ms/step - loss: 0.1670 - accuracy: 0.9274 - val_loss: 0.1886 - val_accuracy: 0.9356\n",
      "Epoch 8/10\n",
      "51/51 [==============================] - 0s 4ms/step - loss: 0.1492 - accuracy: 0.9420 - val_loss: 0.1794 - val_accuracy: 0.9387\n",
      "Epoch 9/10\n",
      "51/51 [==============================] - 0s 3ms/step - loss: 0.1467 - accuracy: 0.9459 - val_loss: 0.1795 - val_accuracy: 0.9387\n",
      "Epoch 10/10\n",
      "51/51 [==============================] - 0s 4ms/step - loss: 0.1422 - accuracy: 0.9420 - val_loss: 0.1867 - val_accuracy: 0.9387\n"
     ]
    },
    {
     "data": {
      "text/plain": [
       "<keras.callbacks.History at 0x1dbd08402e0>"
      ]
     },
     "execution_count": 7,
     "metadata": {},
     "output_type": "execute_result"
    }
   ],
   "source": [
    "# cnn_14.fit(X_train, y_train, epochs=100, validation_data=(X_test, y_test))\n",
    "dnn_model.fit(X_train, \n",
    "              y_train, \n",
    "              batch_size= 15,\n",
    "              epochs = 10,\n",
    "              validation_data=(X_test, y_test))"
   ]
  },
  {
   "cell_type": "code",
   "execution_count": 8,
   "id": "bda01898-1476-4764-8dc6-15c70218705e",
   "metadata": {},
   "outputs": [
    {
     "name": "stdout",
     "output_type": "stream",
     "text": [
      "11/11 [==============================] - 0s 2ms/step - loss: 0.1867 - accuracy: 0.9387\n",
      "[0.18672357499599457, 0.9386503100395203]\n"
     ]
    }
   ],
   "source": [
    "score = dnn_model.evaluate(X_test,y_test)\n",
    "print(score)"
   ]
  },
  {
   "cell_type": "code",
   "execution_count": null,
   "id": "446d91e8-b8e0-4e7f-aee3-e059531a106d",
   "metadata": {},
   "outputs": [],
   "source": []
  },
  {
   "cell_type": "code",
   "execution_count": 9,
   "id": "fd87ab1b-938f-457b-871e-493474cbb5c1",
   "metadata": {},
   "outputs": [],
   "source": [
    "# dnn_model.save(\"imbalanced/ANN_model.h5\")"
   ]
  },
  {
   "cell_type": "code",
   "execution_count": null,
   "id": "1ddf2f25-97a7-4fa4-a339-edc9e484a7c4",
   "metadata": {},
   "outputs": [],
   "source": []
  },
  {
   "cell_type": "code",
   "execution_count": 17,
   "id": "b5233798-fcde-43b7-baa8-ce3b0fe5cde7",
   "metadata": {},
   "outputs": [
    {
     "data": {
      "text/plain": [
       "204     1\n",
       "183     0\n",
       "356     1\n",
       "1068    0\n",
       "272     1\n",
       "       ..\n",
       "9       0\n",
       "436     0\n",
       "903     1\n",
       "863     1\n",
       "898     1\n",
       "Name: Class, Length: 326, dtype: int64"
      ]
     },
     "execution_count": 17,
     "metadata": {},
     "output_type": "execute_result"
    }
   ],
   "source": []
  },
  {
   "cell_type": "code",
   "execution_count": null,
   "id": "9c0c0570-d1f6-47aa-a3d4-3eda42fd4104",
   "metadata": {},
   "outputs": [],
   "source": []
  },
  {
   "cell_type": "code",
   "execution_count": null,
   "id": "37751f91-f902-4c29-9b27-2658c0f43bb4",
   "metadata": {},
   "outputs": [],
   "source": []
  }
 ],
 "metadata": {
  "kernelspec": {
   "display_name": "Python 3 (ipykernel)",
   "language": "python",
   "name": "python3"
  },
  "language_info": {
   "codemirror_mode": {
    "name": "ipython",
    "version": 3
   },
   "file_extension": ".py",
   "mimetype": "text/x-python",
   "name": "python",
   "nbconvert_exporter": "python",
   "pygments_lexer": "ipython3",
   "version": "3.9.5"
  }
 },
 "nbformat": 4,
 "nbformat_minor": 5
}
